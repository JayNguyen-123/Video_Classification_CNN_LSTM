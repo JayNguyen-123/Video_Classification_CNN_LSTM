{
  "nbformat": 4,
  "nbformat_minor": 0,
  "metadata": {
    "colab": {
      "provenance": [],
      "gpuType": "T4",
      "authorship_tag": "ABX9TyP6C3a4DnylX/yC1NzwmPjW",
      "include_colab_link": true
    },
    "kernelspec": {
      "name": "python3",
      "display_name": "Python 3"
    },
    "language_info": {
      "name": "python"
    },
    "accelerator": "GPU"
  },
  "cells": [
    {
      "cell_type": "markdown",
      "metadata": {
        "id": "view-in-github",
        "colab_type": "text"
      },
      "source": [
        "<a href=\"https://colab.research.google.com/github/JayNguyen-123/Video_Classification_CNN_LSTM/blob/main/Video_Classification_CNN_LSTM.ipynb\" target=\"_parent\"><img src=\"https://colab.research.google.com/assets/colab-badge.svg\" alt=\"Open In Colab\"/></a>"
      ]
    },
    {
      "cell_type": "markdown",
      "source": [
        "A 3D-CNN-LSTM vision encoder is a deep learning model that processes video sequences by extracting spatial features (using 3D CNNs) and modeling temporal relationships across the spatial features using LSTMs. This is commonly used in action recognition and video classification tasks.\n",
        "\n",
        "This architecture consists of:\n",
        "\n",
        "1. 3D convolutional layers (extract spatial features from video frames).\n",
        "\n",
        "2. Flattening and temporal processing with LSTM (model sequential relationships across the video frames).\n",
        "\n",
        "3. Fully connected layers for video classification."
      ],
      "metadata": {
        "id": "Zi_EsNZT5M1D"
      }
    },
    {
      "cell_type": "code",
      "execution_count": 12,
      "metadata": {
        "id": "Ebs1_GAn5BhT"
      },
      "outputs": [],
      "source": [
        "import cv2\n",
        "import torch\n",
        "import numpy as np\n",
        "from torchvision import transforms\n",
        "\n",
        "def video_sampler(video_path, num_frames=16, frame_size=(112, 112)):\n",
        "    # from video load random nframes\n",
        "    cap = cv2.VideoCapture(video_path)\n",
        "    frames = []\n",
        "\n",
        "    total_frames = int(cap.get(cv2.CAP_PROP_FRAME_COUNT))\n",
        "    frame_idxs = np.linspace(0, total_frames-1, num_frames).astype(int)\n",
        "\n",
        "    transform = transforms.Compose([\n",
        "        transforms.ToPILImage(),\n",
        "        transforms.Resize(frame_size),\n",
        "        transforms.ToTensor(),\n",
        "    ])\n",
        "\n",
        "    for idx in frame_idxs:\n",
        "        cap.set(cv2.CAP_PROP_POS_FRAMES, idx)\n",
        "        ret, frame = cap.read()\n",
        "        if not ret:\n",
        "            break\n",
        "        frame = cv2.cvtColor(frame, cv2.COLOR_BGR2RGB)\n",
        "        frames.append(transform(frame))\n",
        "\n",
        "    cap.release()\n",
        "\n",
        "    if len(frames) < num_frames:\n",
        "        frames += [frames[-1]] * (num_frames - len(frames))\n",
        "\n",
        "    return torch.stack(frames)  # Shape: (T, C, H, W)\n",
        ""
      ]
    },
    {
      "cell_type": "code",
      "source": [
        "\n",
        "import torch.nn as nn\n",
        "\n",
        "class CNN3D(nn.Module):\n",
        "    def __init__(self):\n",
        "        super(CNN3D, self).__init__()\n",
        "        self.conv3d = nn.Sequential(\n",
        "            nn.Conv3d(in_channels=3, out_channels=64, kernel_size=(3, 3, 3), stride=1, padding=1),\n",
        "            nn.ReLU(),\n",
        "            nn.MaxPool3d((1, 2, 2)),\n",
        "\n",
        "            nn.Conv3d(in_channels=64, out_channels=128, kernel_size=(3, 3, 3), stride=1, padding=1),\n",
        "            nn.ReLU(),\n",
        "            nn.MaxPool3d((2, 2, 2))\n",
        "        )\n",
        "\n",
        "    def forward(self, x):\n",
        "        return self.conv3d(x)  # Shape: (Batch, 128, T//2, H//4, W//4)\n",
        "\n",
        "# Example forward pass\n",
        "model_3dcnn = CNN3D()\n"
      ],
      "metadata": {
        "id": "6eKFqNow5h9I"
      },
      "execution_count": 13,
      "outputs": []
    },
    {
      "cell_type": "code",
      "source": [
        "class LSTMVisionEncoder(nn.Module):\n",
        "    def __init__(self, cnn3d, hidden_size=256, num_classes=2):\n",
        "        super(LSTMVisionEncoder, self).__init__()\n",
        "        self.cnn3d = cnn3d\n",
        "        self.hidden_size = hidden_size\n",
        "        # The input_size should be 128 * 28 * 28,\n",
        "        # which is the feature dimension of each frame after the CNN3D\n",
        "        self.lstm = nn.LSTM(input_size=128*28*28, hidden_size=hidden_size, num_layers=2, batch_first=True)\n",
        "        self.fc = nn.Linear(hidden_size, num_classes)\n",
        "\n",
        "    def forward(self, x, y=None):\n",
        "        batch_size, C, frames, H, W = x.shape\n",
        "\n",
        "        # Pass through 3D CNN backbone\n",
        "        x = self.cnn3d(x)  # Output shape: (batch, 128, T//2, H//4, W//4)\n",
        "\n",
        "        # Reshape to (batch_size, frames//2, 128*28*28) before feeding into LSTM\n",
        "        x = x.view(batch_size, frames // 2, -1) # Reshape to match LSTM input\n",
        "\n",
        "        # LSTM forward pass\n",
        "        lstm_out, _ = self.lstm(x)  # (batch, frames, lstm_hidden_size)\n",
        "\n",
        "        # Take the last frame's output for classification\n",
        "        output = self.fc(lstm_out[:, -1, :])  # (batch, num_classes)\n",
        "\n",
        "        return output\n",
        "\n",
        "# Initialize model\n",
        "model = LSTMVisionEncoder(model_3dcnn)"
      ],
      "metadata": {
        "id": "i72ry0cv8MJD"
      },
      "execution_count": 14,
      "outputs": []
    },
    {
      "cell_type": "markdown",
      "source": [
        "### Kinetic400-tinny dataset\n",
        "- Let train our model with a small, light weight dataset with Kinetic400-tiny dataset.\n",
        "- Class 0 is a demonstration of rope climbing, while class 1 is a demonstration of welding. So let’s go ahead to build a binary classification model (2 classes)."
      ],
      "metadata": {
        "id": "Qj3W5NEHdXMr"
      }
    },
    {
      "cell_type": "code",
      "source": [
        "!pip install decord\n",
        "\n",
        "import torch\n",
        "import torch.nn as nn\n",
        "import torch.optim as optim\n",
        "from torch.utils.data import Dataset, DataLoader\n",
        "import decord\n",
        "import pandas as pd\n",
        "from decord import VideoReader, cpu\n",
        "import torchvision.transforms as transforms\n",
        "import os\n",
        "\n",
        "# Define VideoDataset class\n",
        "class KineticsTinyDataset(Dataset):\n",
        "    def __init__(self, root_dir, data_dir, num_frames=16, frame_size=(112, 112)):\n",
        "        self.root_dir = root_dir\n",
        "        self.data_dir = data_dir\n",
        "        self.video_files, self.labels = self._load_data()\n",
        "        self.num_frames = num_frames\n",
        "        self.frame_size = frame_size\n",
        "        self.transform = transforms.Compose([\n",
        "            transforms.ToPILImage(),\n",
        "            transforms.Resize(self.frame_size),\n",
        "            transforms.ToTensor()\n",
        "        ])\n",
        "\n",
        "    def _load_data(self):\n",
        "\n",
        "        df = pd.read_csv(self.data_dir, delimiter='\\t', names=['video_info'])  # Assumes comma-separated values\n",
        "        x,y = [], []\n",
        "        for index, row in df.iterrows():\n",
        "          video_name, video_class = row['video_info'].split(' ')\n",
        "          x.append(video_name)\n",
        "          y.append(int(video_class))\n",
        "\n",
        "        return x,y\n",
        "\n",
        "    def __len__(self):\n",
        "        return len(self.video_files)\n",
        "\n",
        "    def __getitem__(self, idx):\n",
        "        video_path = os.path.join(self.root_dir, self.video_files[idx])\n",
        "        label = self.labels[idx]\n",
        "        vr = VideoReader(video_path, ctx=cpu(0))\n",
        "\n",
        "        # Select frames evenly spaced\n",
        "        total_frames = len(vr)\n",
        "        frame_idxs = torch.linspace(0, total_frames-1, self.num_frames).long().tolist()\n",
        "        frames = [vr[i].asnumpy() for i in frame_idxs]\n",
        "        if self.transform:\n",
        "          frames = [self.transform(frame) for frame in frames]\n",
        "\n",
        "        frames = torch.stack(frames)  # (T, C, H, W)\n",
        "        return frames, torch.tensor(label)  # (C, T, H, W) .permute(1, 0, 2, 3)\n",
        "\n",
        "\n",
        "root_dir = \"/content/sample_data/train\"\n",
        "annotation = \"/content/kinetics_tiny_train_video.txt\"\n",
        "\n",
        "# Load dataset\n",
        "train_dataset = KineticsTinyDataset(root_dir, annotation)\n",
        "train_loader = DataLoader(train_dataset, batch_size=8, shuffle=True, num_workers=4)\n",
        "\n",
        "# Check dataset output\n",
        "sample_video, sample_label = train_dataset[20]\n",
        "print(\"Sample Video Shape:\", sample_video.shape)  # Expected: (3, 16, 112, 112)\n",
        "print(\"Sample Label:\", sample_label)\n",
        "\n"
      ],
      "metadata": {
        "colab": {
          "base_uri": "https://localhost:8080/"
        },
        "id": "jdKtGKiMCi_8",
        "outputId": "59094817-b256-491f-973a-d123536f0a70"
      },
      "execution_count": 15,
      "outputs": [
        {
          "output_type": "stream",
          "name": "stdout",
          "text": [
            "Requirement already satisfied: decord in /usr/local/lib/python3.12/dist-packages (0.6.0)\n",
            "Requirement already satisfied: numpy>=1.14.0 in /usr/local/lib/python3.12/dist-packages (from decord) (2.0.2)\n",
            "Sample Video Shape: torch.Size([16, 3, 112, 112])\n",
            "Sample Label: tensor(0)\n"
          ]
        },
        {
          "output_type": "stream",
          "name": "stderr",
          "text": [
            "/usr/local/lib/python3.12/dist-packages/torch/utils/data/dataloader.py:627: UserWarning: This DataLoader will create 4 worker processes in total. Our suggested max number of worker in current system is 2, which is smaller than what this DataLoader is going to create. Please be aware that excessive worker creation might get DataLoader running slow or even freeze, lower the worker number to avoid potential slowness/freeze if necessary.\n",
            "  warnings.warn(\n"
          ]
        }
      ]
    },
    {
      "cell_type": "code",
      "source": [
        "import torch.optim as optim\n",
        "import matplotlib.pyplot as plt\n",
        "\n",
        "# Loss and optimizer\n",
        "criterion = nn.CrossEntropyLoss()\n",
        "optimizer = optim.Adam(model.parameters(), lr=0.001)\n",
        "device = \"cuda\" if torch.cuda.is_available() else \"cpu\"\n",
        "model = model.to(device)\n",
        "\n",
        "# Store loss values for plotting\n",
        "loss_history = []\n",
        "\n",
        "# Training Loop\n",
        "for epoch in range(20):\n",
        "    epoch_loss = 0  # Track loss for the epoch\n",
        "    num_batches = 0\n",
        "\n",
        "    for videos, labels in train_loader:\n",
        "        videos, labels = videos.to(device), labels.to(device)\n",
        "        optimizer.zero_grad()\n",
        "        outputs = model(videos.permute(0, 2, 1, 3, 4), labels)\n",
        "        loss = criterion(outputs, labels)\n",
        "        loss.backward()\n",
        "        optimizer.step()\n",
        "\n",
        "        epoch_loss += loss.item()\n",
        "        num_batches += 1\n",
        "\n",
        "    avg_loss = epoch_loss / num_batches  # Compute average loss\n",
        "    loss_history.append(avg_loss)  # Store for plotting\n",
        "    print(f\"Epoch {epoch+1}, Loss: {avg_loss:.4f}\")\n",
        "\n",
        "# Plot the loss curve\n",
        "plt.figure(figsize=(8, 5))\n",
        "plt.plot(range(1, 21), loss_history, marker=\"o\", linestyle=\"-\", color=\"b\", label=\"Training Loss\")\n",
        "plt.xlabel(\"Epoch\")\n",
        "plt.ylabel(\"Loss\")\n",
        "plt.title(\"Training Loss Over Epochs\")\n",
        "plt.legend()\n",
        "plt.grid()\n",
        "plt.show()\n",
        "\n",
        "\n"
      ],
      "metadata": {
        "colab": {
          "base_uri": "https://localhost:8080/",
          "height": 834
        },
        "id": "M7AAGL5RcNfo",
        "outputId": "d5ed6876-7b5e-4a3e-fffa-1e73902ac488"
      },
      "execution_count": 16,
      "outputs": [
        {
          "output_type": "stream",
          "name": "stdout",
          "text": [
            "Epoch 1, Loss: 0.7964\n",
            "Epoch 2, Loss: 0.6944\n",
            "Epoch 3, Loss: 0.6965\n",
            "Epoch 4, Loss: 0.6930\n",
            "Epoch 5, Loss: 0.6801\n",
            "Epoch 6, Loss: 0.6766\n",
            "Epoch 7, Loss: 0.6561\n",
            "Epoch 8, Loss: 0.6411\n",
            "Epoch 9, Loss: 0.6083\n",
            "Epoch 10, Loss: 0.5491\n",
            "Epoch 11, Loss: 0.5616\n",
            "Epoch 12, Loss: 0.3671\n",
            "Epoch 13, Loss: 0.3717\n",
            "Epoch 14, Loss: 0.2446\n",
            "Epoch 15, Loss: 0.1558\n",
            "Epoch 16, Loss: 0.1238\n",
            "Epoch 17, Loss: 0.0996\n",
            "Epoch 18, Loss: 0.0497\n",
            "Epoch 19, Loss: 0.0293\n",
            "Epoch 20, Loss: 0.0187\n"
          ]
        },
        {
          "output_type": "display_data",
          "data": {
            "text/plain": [
              "<Figure size 800x500 with 1 Axes>"
            ],
            "image/png": "[encoded data removed]"
          },
          "metadata": {}
        }
      ]
    },
    {
      "cell_type": "code",
      "source": [
        "# Inference\n",
        "import torch.nn.functional as F\n",
        "\n",
        "root_dir = \"/content/sample_data/val\"\n",
        "annotation = \"/content/kinetics_tiny_val_video.txt\"\n",
        "\n",
        "val_dataset = KineticsTinyDataset(root_dir, annotation)\n",
        "sample_video, sample_label = train_dataset[3]\n",
        "class_labels = [0, 1]\n",
        "\n",
        "def predict(video_tensor, label):\n",
        "  print(\"Expected class: \", class_labels[label.item()])\n",
        "  with torch.no_grad():\n",
        "    output = model(video_tensor.permute(0, 2, 1, 3, 4), label)\n",
        "    probabilities = F.softmax(output, dim=1)\n",
        "    predicted_class = torch.argmax(probabilities, dim=1).item()\n",
        "\n",
        "  print(f\"Predicted Class: {class_labels[predicted_class]} ({probabilities.max().item():.4f} confidence)\")\n",
        "\n",
        "predict(sample_video.unsqueeze(0).to(device), sample_label.to(device))\n",
        "\n",
        "\n"
      ],
      "metadata": {
        "colab": {
          "base_uri": "https://localhost:8080/"
        },
        "id": "eNjqL0ENxiU3",
        "outputId": "4255a4cb-d8be-4032-e745-4fe547a1611a"
      },
      "execution_count": 17,
      "outputs": [
        {
          "output_type": "stream",
          "name": "stdout",
          "text": [
            "Expected class:  1\n",
            "Predicted Class: 1 (0.9991 confidence)\n"
          ]
        }
      ]
    }
  ]
}